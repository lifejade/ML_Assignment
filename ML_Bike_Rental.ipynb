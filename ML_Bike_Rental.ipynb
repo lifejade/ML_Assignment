{
 "cells": [
  {
   "cell_type": "markdown",
   "id": "9c27f8c5-f838-4cdb-ae1a-452ee5e3e995",
   "metadata": {},
   "source": [
    "id 고유 id\n",
    "hour 시간\n",
    "temperature 기온\n",
    "precipitation 비가 오지 않았으면 0, 비가 오면 1\n",
    "windspeed 풍속(평균)\n",
    "humidity 습도\n",
    "visibility 시정(視程), 시계(視界)(특정 기상 상태에 따른 가시성을 의미)\n",
    "ozone 오존\n",
    "pm10 미세먼지(머리카락 굵기의 1/5에서 1/7 크기의 미세먼지)\n",
    "pm2.5 미세먼지(머리카락 굵기의 1/20에서 1/30 크기의 미세먼지)\n",
    "count 시간에 따른 따릉이 대여 수"
   ]
  },
  {
   "cell_type": "code",
   "execution_count": 40,
   "id": "28d1a793-26e7-4178-9dcc-635f240dae9c",
   "metadata": {},
   "outputs": [
    {
     "data": {
      "text/html": [
       "<div>\n",
       "<style scoped>\n",
       "    .dataframe tbody tr th:only-of-type {\n",
       "        vertical-align: middle;\n",
       "    }\n",
       "\n",
       "    .dataframe tbody tr th {\n",
       "        vertical-align: top;\n",
       "    }\n",
       "\n",
       "    .dataframe thead th {\n",
       "        text-align: right;\n",
       "    }\n",
       "</style>\n",
       "<table border=\"1\" class=\"dataframe\">\n",
       "  <thead>\n",
       "    <tr style=\"text-align: right;\">\n",
       "      <th></th>\n",
       "      <th>id</th>\n",
       "      <th>hour</th>\n",
       "      <th>hour_bef_temperature</th>\n",
       "      <th>hour_bef_precipitation</th>\n",
       "      <th>hour_bef_windspeed</th>\n",
       "      <th>hour_bef_humidity</th>\n",
       "      <th>hour_bef_visibility</th>\n",
       "      <th>hour_bef_ozone</th>\n",
       "      <th>hour_bef_pm10</th>\n",
       "      <th>hour_bef_pm2.5</th>\n",
       "      <th>count</th>\n",
       "    </tr>\n",
       "  </thead>\n",
       "  <tbody>\n",
       "    <tr>\n",
       "      <th>0</th>\n",
       "      <td>3</td>\n",
       "      <td>20</td>\n",
       "      <td>16.3</td>\n",
       "      <td>1.0</td>\n",
       "      <td>1.5</td>\n",
       "      <td>89.0</td>\n",
       "      <td>576.0</td>\n",
       "      <td>0.027</td>\n",
       "      <td>76.0</td>\n",
       "      <td>33.0</td>\n",
       "      <td>49.0</td>\n",
       "    </tr>\n",
       "    <tr>\n",
       "      <th>1</th>\n",
       "      <td>6</td>\n",
       "      <td>13</td>\n",
       "      <td>20.1</td>\n",
       "      <td>0.0</td>\n",
       "      <td>1.4</td>\n",
       "      <td>48.0</td>\n",
       "      <td>916.0</td>\n",
       "      <td>0.042</td>\n",
       "      <td>73.0</td>\n",
       "      <td>40.0</td>\n",
       "      <td>159.0</td>\n",
       "    </tr>\n",
       "    <tr>\n",
       "      <th>2</th>\n",
       "      <td>7</td>\n",
       "      <td>6</td>\n",
       "      <td>13.9</td>\n",
       "      <td>0.0</td>\n",
       "      <td>0.7</td>\n",
       "      <td>79.0</td>\n",
       "      <td>1382.0</td>\n",
       "      <td>0.033</td>\n",
       "      <td>32.0</td>\n",
       "      <td>19.0</td>\n",
       "      <td>26.0</td>\n",
       "    </tr>\n",
       "    <tr>\n",
       "      <th>3</th>\n",
       "      <td>8</td>\n",
       "      <td>23</td>\n",
       "      <td>8.1</td>\n",
       "      <td>0.0</td>\n",
       "      <td>2.7</td>\n",
       "      <td>54.0</td>\n",
       "      <td>946.0</td>\n",
       "      <td>0.040</td>\n",
       "      <td>75.0</td>\n",
       "      <td>64.0</td>\n",
       "      <td>57.0</td>\n",
       "    </tr>\n",
       "    <tr>\n",
       "      <th>4</th>\n",
       "      <td>9</td>\n",
       "      <td>18</td>\n",
       "      <td>29.5</td>\n",
       "      <td>0.0</td>\n",
       "      <td>4.8</td>\n",
       "      <td>7.0</td>\n",
       "      <td>2000.0</td>\n",
       "      <td>0.057</td>\n",
       "      <td>27.0</td>\n",
       "      <td>11.0</td>\n",
       "      <td>431.0</td>\n",
       "    </tr>\n",
       "  </tbody>\n",
       "</table>\n",
       "</div>"
      ],
      "text/plain": [
       "   id  hour  hour_bef_temperature  hour_bef_precipitation  hour_bef_windspeed  \\\n",
       "0   3    20                  16.3                     1.0                 1.5   \n",
       "1   6    13                  20.1                     0.0                 1.4   \n",
       "2   7     6                  13.9                     0.0                 0.7   \n",
       "3   8    23                   8.1                     0.0                 2.7   \n",
       "4   9    18                  29.5                     0.0                 4.8   \n",
       "\n",
       "   hour_bef_humidity  hour_bef_visibility  hour_bef_ozone  hour_bef_pm10  \\\n",
       "0               89.0                576.0           0.027           76.0   \n",
       "1               48.0                916.0           0.042           73.0   \n",
       "2               79.0               1382.0           0.033           32.0   \n",
       "3               54.0                946.0           0.040           75.0   \n",
       "4                7.0               2000.0           0.057           27.0   \n",
       "\n",
       "   hour_bef_pm2.5  count  \n",
       "0            33.0   49.0  \n",
       "1            40.0  159.0  \n",
       "2            19.0   26.0  \n",
       "3            64.0   57.0  \n",
       "4            11.0  431.0  "
      ]
     },
     "execution_count": 40,
     "metadata": {},
     "output_type": "execute_result"
    }
   ],
   "source": [
    "import pandas as pd\n",
    "import numpy as np\n",
    "import matplotlib.pyplot as plt\n",
    "\n",
    "df = pd.read_csv('data/train.csv')\n",
    "\n",
    "df.head()"
   ]
  },
  {
   "cell_type": "code",
   "execution_count": 41,
   "id": "a949f326-8bfa-4712-927b-889ca270864b",
   "metadata": {},
   "outputs": [
    {
     "data": {
      "text/plain": [
       "(1459, 11)"
      ]
     },
     "execution_count": 41,
     "metadata": {},
     "output_type": "execute_result"
    }
   ],
   "source": [
    "df.shape"
   ]
  },
  {
   "cell_type": "code",
   "execution_count": 42,
   "id": "5d1a5caa-f86c-422e-82a5-43af18d3fc64",
   "metadata": {},
   "outputs": [
    {
     "data": {
      "text/html": [
       "<div>\n",
       "<style scoped>\n",
       "    .dataframe tbody tr th:only-of-type {\n",
       "        vertical-align: middle;\n",
       "    }\n",
       "\n",
       "    .dataframe tbody tr th {\n",
       "        vertical-align: top;\n",
       "    }\n",
       "\n",
       "    .dataframe thead th {\n",
       "        text-align: right;\n",
       "    }\n",
       "</style>\n",
       "<table border=\"1\" class=\"dataframe\">\n",
       "  <thead>\n",
       "    <tr style=\"text-align: right;\">\n",
       "      <th></th>\n",
       "      <th>hour</th>\n",
       "      <th>hour_bef_temperature</th>\n",
       "      <th>hour_bef_precipitation</th>\n",
       "      <th>hour_bef_windspeed</th>\n",
       "      <th>hour_bef_humidity</th>\n",
       "      <th>hour_bef_visibility</th>\n",
       "      <th>hour_bef_ozone</th>\n",
       "      <th>hour_bef_pm10</th>\n",
       "      <th>hour_bef_pm2.5</th>\n",
       "    </tr>\n",
       "  </thead>\n",
       "  <tbody>\n",
       "    <tr>\n",
       "      <th>0</th>\n",
       "      <td>20</td>\n",
       "      <td>16.3</td>\n",
       "      <td>1.0</td>\n",
       "      <td>1.5</td>\n",
       "      <td>89.0</td>\n",
       "      <td>576.0</td>\n",
       "      <td>0.027</td>\n",
       "      <td>76.0</td>\n",
       "      <td>33.0</td>\n",
       "    </tr>\n",
       "    <tr>\n",
       "      <th>1</th>\n",
       "      <td>13</td>\n",
       "      <td>20.1</td>\n",
       "      <td>0.0</td>\n",
       "      <td>1.4</td>\n",
       "      <td>48.0</td>\n",
       "      <td>916.0</td>\n",
       "      <td>0.042</td>\n",
       "      <td>73.0</td>\n",
       "      <td>40.0</td>\n",
       "    </tr>\n",
       "    <tr>\n",
       "      <th>2</th>\n",
       "      <td>6</td>\n",
       "      <td>13.9</td>\n",
       "      <td>0.0</td>\n",
       "      <td>0.7</td>\n",
       "      <td>79.0</td>\n",
       "      <td>1382.0</td>\n",
       "      <td>0.033</td>\n",
       "      <td>32.0</td>\n",
       "      <td>19.0</td>\n",
       "    </tr>\n",
       "    <tr>\n",
       "      <th>3</th>\n",
       "      <td>23</td>\n",
       "      <td>8.1</td>\n",
       "      <td>0.0</td>\n",
       "      <td>2.7</td>\n",
       "      <td>54.0</td>\n",
       "      <td>946.0</td>\n",
       "      <td>0.040</td>\n",
       "      <td>75.0</td>\n",
       "      <td>64.0</td>\n",
       "    </tr>\n",
       "    <tr>\n",
       "      <th>4</th>\n",
       "      <td>18</td>\n",
       "      <td>29.5</td>\n",
       "      <td>0.0</td>\n",
       "      <td>4.8</td>\n",
       "      <td>7.0</td>\n",
       "      <td>2000.0</td>\n",
       "      <td>0.057</td>\n",
       "      <td>27.0</td>\n",
       "      <td>11.0</td>\n",
       "    </tr>\n",
       "    <tr>\n",
       "      <th>...</th>\n",
       "      <td>...</td>\n",
       "      <td>...</td>\n",
       "      <td>...</td>\n",
       "      <td>...</td>\n",
       "      <td>...</td>\n",
       "      <td>...</td>\n",
       "      <td>...</td>\n",
       "      <td>...</td>\n",
       "      <td>...</td>\n",
       "    </tr>\n",
       "    <tr>\n",
       "      <th>1454</th>\n",
       "      <td>4</td>\n",
       "      <td>16.8</td>\n",
       "      <td>0.0</td>\n",
       "      <td>1.6</td>\n",
       "      <td>53.0</td>\n",
       "      <td>2000.0</td>\n",
       "      <td>0.031</td>\n",
       "      <td>37.0</td>\n",
       "      <td>27.0</td>\n",
       "    </tr>\n",
       "    <tr>\n",
       "      <th>1455</th>\n",
       "      <td>3</td>\n",
       "      <td>10.8</td>\n",
       "      <td>0.0</td>\n",
       "      <td>3.8</td>\n",
       "      <td>45.0</td>\n",
       "      <td>2000.0</td>\n",
       "      <td>0.039</td>\n",
       "      <td>34.0</td>\n",
       "      <td>19.0</td>\n",
       "    </tr>\n",
       "    <tr>\n",
       "      <th>1456</th>\n",
       "      <td>5</td>\n",
       "      <td>18.3</td>\n",
       "      <td>0.0</td>\n",
       "      <td>1.9</td>\n",
       "      <td>54.0</td>\n",
       "      <td>2000.0</td>\n",
       "      <td>0.009</td>\n",
       "      <td>30.0</td>\n",
       "      <td>21.0</td>\n",
       "    </tr>\n",
       "    <tr>\n",
       "      <th>1457</th>\n",
       "      <td>21</td>\n",
       "      <td>20.7</td>\n",
       "      <td>0.0</td>\n",
       "      <td>3.7</td>\n",
       "      <td>37.0</td>\n",
       "      <td>1395.0</td>\n",
       "      <td>0.082</td>\n",
       "      <td>71.0</td>\n",
       "      <td>36.0</td>\n",
       "    </tr>\n",
       "    <tr>\n",
       "      <th>1458</th>\n",
       "      <td>17</td>\n",
       "      <td>21.1</td>\n",
       "      <td>0.0</td>\n",
       "      <td>3.1</td>\n",
       "      <td>47.0</td>\n",
       "      <td>1973.0</td>\n",
       "      <td>0.046</td>\n",
       "      <td>38.0</td>\n",
       "      <td>17.0</td>\n",
       "    </tr>\n",
       "  </tbody>\n",
       "</table>\n",
       "<p>1459 rows × 9 columns</p>\n",
       "</div>"
      ],
      "text/plain": [
       "      hour  hour_bef_temperature  hour_bef_precipitation  hour_bef_windspeed  \\\n",
       "0       20                  16.3                     1.0                 1.5   \n",
       "1       13                  20.1                     0.0                 1.4   \n",
       "2        6                  13.9                     0.0                 0.7   \n",
       "3       23                   8.1                     0.0                 2.7   \n",
       "4       18                  29.5                     0.0                 4.8   \n",
       "...    ...                   ...                     ...                 ...   \n",
       "1454     4                  16.8                     0.0                 1.6   \n",
       "1455     3                  10.8                     0.0                 3.8   \n",
       "1456     5                  18.3                     0.0                 1.9   \n",
       "1457    21                  20.7                     0.0                 3.7   \n",
       "1458    17                  21.1                     0.0                 3.1   \n",
       "\n",
       "      hour_bef_humidity  hour_bef_visibility  hour_bef_ozone  hour_bef_pm10  \\\n",
       "0                  89.0                576.0           0.027           76.0   \n",
       "1                  48.0                916.0           0.042           73.0   \n",
       "2                  79.0               1382.0           0.033           32.0   \n",
       "3                  54.0                946.0           0.040           75.0   \n",
       "4                   7.0               2000.0           0.057           27.0   \n",
       "...                 ...                  ...             ...            ...   \n",
       "1454               53.0               2000.0           0.031           37.0   \n",
       "1455               45.0               2000.0           0.039           34.0   \n",
       "1456               54.0               2000.0           0.009           30.0   \n",
       "1457               37.0               1395.0           0.082           71.0   \n",
       "1458               47.0               1973.0           0.046           38.0   \n",
       "\n",
       "      hour_bef_pm2.5  \n",
       "0               33.0  \n",
       "1               40.0  \n",
       "2               19.0  \n",
       "3               64.0  \n",
       "4               11.0  \n",
       "...              ...  \n",
       "1454            27.0  \n",
       "1455            19.0  \n",
       "1456            21.0  \n",
       "1457            36.0  \n",
       "1458            17.0  \n",
       "\n",
       "[1459 rows x 9 columns]"
      ]
     },
     "execution_count": 42,
     "metadata": {},
     "output_type": "execute_result"
    }
   ],
   "source": [
    "data_x = df.drop(\"count\",axis=1).drop(\"id\",axis=1).fillna(0)\n",
    "data_x"
   ]
  },
  {
   "cell_type": "code",
   "execution_count": 43,
   "id": "e1dc5c10-82d8-4b4c-b7c3-ad20f9e5aec4",
   "metadata": {},
   "outputs": [
    {
     "data": {
      "text/plain": [
       "0        49.0\n",
       "1       159.0\n",
       "2        26.0\n",
       "3        57.0\n",
       "4       431.0\n",
       "        ...  \n",
       "1454     21.0\n",
       "1455     20.0\n",
       "1456     22.0\n",
       "1457    216.0\n",
       "1458    170.0\n",
       "Name: count, Length: 1459, dtype: float64"
      ]
     },
     "execution_count": 43,
     "metadata": {},
     "output_type": "execute_result"
    }
   ],
   "source": [
    "data_y = df[\"count\"]\n",
    "data_y"
   ]
  },
  {
   "cell_type": "code",
   "execution_count": 44,
   "id": "06832e49-3fca-4020-a779-afe8dc524cdf",
   "metadata": {},
   "outputs": [
    {
     "name": "stdout",
     "output_type": "stream",
     "text": [
      "(1021, 9)\n",
      "(438, 9)\n",
      "(1021,)\n",
      "(438,)\n"
     ]
    }
   ],
   "source": [
    "from sklearn.model_selection import train_test_split \n",
    "X_train, X_test, y_train, y_test = train_test_split(data_x, data_y, test_size=0.30, random_state=1)\n",
    "print(X_train.shape)\n",
    "print(X_test.shape)\n",
    "print(y_train.shape)\n",
    "print(y_test.shape)"
   ]
  },
  {
   "cell_type": "code",
   "execution_count": 45,
   "id": "1617047f-ba3f-43c4-81cf-bb7537c58399",
   "metadata": {},
   "outputs": [],
   "source": [
    "from sklearn.linear_model import LinearRegression, Lasso, Ridge\n",
    "from sklearn.preprocessing import PolynomialFeatures\n",
    "from sklearn.preprocessing import StandardScaler\n",
    "from sklearn.decomposition import PCA\n",
    "\n",
    "slr = Ridge(alpha =5, random_state = 1)\n",
    "poly = PolynomialFeatures(degree = 2, interaction_only = False, include_bias=True)\n",
    "sc = StandardScaler()\n",
    "pca = PCA(n_components = 7)\n",
    "\n",
    "sc.fit(X_train)\n",
    "X_train_std = sc.transform(X_train)\n",
    "X_test_std = sc.transform(X_test)\n",
    "\n",
    "pca.fit(X_train_std)\n",
    "X_train_pca = pca.transform(X_train_std)\n",
    "X_test_pca = pca.transform(X_test_std)\n",
    "\n"
   ]
  },
  {
   "cell_type": "code",
   "execution_count": 46,
   "id": "3014f93a-f04d-47f7-b743-9b18b7049fe5",
   "metadata": {},
   "outputs": [],
   "source": [
    "poly.fit(X_train_pca)\n",
    "lr_x=poly.transform(X_train_pca)\n",
    "slr.fit(lr_x, y_train)\n",
    "y_pred = slr.predict(lr_x)"
   ]
  },
  {
   "cell_type": "code",
   "execution_count": 47,
   "id": "e7106d07-377d-4075-9140-f498a1b46f09",
   "metadata": {},
   "outputs": [
    {
     "data": {
      "text/plain": [
       "array([[ 1.00000000e+00,  1.09948212e-01, -7.00720353e-01, ...,\n",
       "         2.66041200e-01, -5.85449659e-02,  1.28833919e-02],\n",
       "       [ 1.00000000e+00, -2.66333728e+00, -9.39675149e-01, ...,\n",
       "         2.37955455e-01, -1.83228861e-02,  1.41088657e-03],\n",
       "       [ 1.00000000e+00, -1.95605537e+00,  1.50438353e+00, ...,\n",
       "         1.97857598e-01,  3.50471137e-01,  6.20800107e-01],\n",
       "       ...,\n",
       "       [ 1.00000000e+00,  3.28661335e-01,  1.00820808e+00, ...,\n",
       "         7.59407839e-02, -2.06080254e-03,  5.59239305e-05],\n",
       "       [ 1.00000000e+00, -1.24021242e+00, -9.48428103e-01, ...,\n",
       "         3.16450576e-03, -5.47255541e-03,  9.46399375e-03],\n",
       "       [ 1.00000000e+00, -9.77350205e-01,  5.37933144e+00, ...,\n",
       "         3.68753253e-01,  7.26315362e-01,  1.43058807e+00]])"
      ]
     },
     "execution_count": 47,
     "metadata": {},
     "output_type": "execute_result"
    }
   ],
   "source": [
    "lr_x"
   ]
  },
  {
   "cell_type": "code",
   "execution_count": 48,
   "id": "aadbb370-9049-4b5f-af54-37accca031e4",
   "metadata": {},
   "outputs": [
    {
     "data": {
      "text/plain": [
       "array([ 0.00000000e+00, -3.10460688e+01,  3.85209939e+00,  2.03570613e+01,\n",
       "       -1.78298178e+01, -1.23644615e+01, -2.00945149e+01,  8.68805280e+00,\n",
       "        4.33532872e+00, -1.41344672e+00, -2.62200367e+00,  9.11908894e+00,\n",
       "        3.07227984e+00,  1.92432848e+00,  4.04630001e+00, -1.45656532e-02,\n",
       "       -9.70064924e-01, -1.14801320e+00,  2.75280916e-02,  1.52003185e+00,\n",
       "       -9.29035194e-01, -2.73261086e+00, -5.05245931e+00,  2.89699153e+00,\n",
       "        8.02551338e-01, -2.30162574e+00, -1.53444872e+00,  3.70876543e+00,\n",
       "        5.59060076e+00,  1.84448126e+00, -8.21768119e+00, -3.70051488e+00,\n",
       "       -9.14629444e+00, -5.15873188e+00, -1.37915229e+00, -1.15548463e+00])"
      ]
     },
     "execution_count": 48,
     "metadata": {},
     "output_type": "execute_result"
    }
   ],
   "source": [
    "slr.coef_"
   ]
  },
  {
   "cell_type": "code",
   "execution_count": 49,
   "id": "7aaeb9f4-c989-4ad7-b562-a289480f71e8",
   "metadata": {},
   "outputs": [
    {
     "data": {
      "text/plain": [
       "110.00706024952551"
      ]
     },
     "execution_count": 49,
     "metadata": {},
     "output_type": "execute_result"
    }
   ],
   "source": [
    "slr.intercept_"
   ]
  },
  {
   "cell_type": "code",
   "execution_count": 50,
   "id": "58d92414-1bcb-4bf4-84c0-8de4da997e03",
   "metadata": {},
   "outputs": [
    {
     "data": {
      "text/plain": [
       "(438,)"
      ]
     },
     "execution_count": 50,
     "metadata": {},
     "output_type": "execute_result"
    }
   ],
   "source": [
    "lr_test = poly.transform(X_test_pca)\n",
    "y_predict = slr.predict(lr_test)\n",
    "y_predict.shape"
   ]
  },
  {
   "cell_type": "code",
   "execution_count": 51,
   "id": "04aa0b69-9dff-4be6-a8ad-3a86d83e1c70",
   "metadata": {},
   "outputs": [
    {
     "data": {
      "text/html": [
       "<div>\n",
       "<style scoped>\n",
       "    .dataframe tbody tr th:only-of-type {\n",
       "        vertical-align: middle;\n",
       "    }\n",
       "\n",
       "    .dataframe tbody tr th {\n",
       "        vertical-align: top;\n",
       "    }\n",
       "\n",
       "    .dataframe thead th {\n",
       "        text-align: right;\n",
       "    }\n",
       "</style>\n",
       "<table border=\"1\" class=\"dataframe\">\n",
       "  <thead>\n",
       "    <tr style=\"text-align: right;\">\n",
       "      <th></th>\n",
       "      <th>Actual</th>\n",
       "      <th>Predicted</th>\n",
       "    </tr>\n",
       "  </thead>\n",
       "  <tbody>\n",
       "    <tr>\n",
       "      <th>0</th>\n",
       "      <td>134.0</td>\n",
       "      <td>154.992135</td>\n",
       "    </tr>\n",
       "    <tr>\n",
       "      <th>1</th>\n",
       "      <td>65.0</td>\n",
       "      <td>60.143337</td>\n",
       "    </tr>\n",
       "    <tr>\n",
       "      <th>2</th>\n",
       "      <td>67.0</td>\n",
       "      <td>44.675690</td>\n",
       "    </tr>\n",
       "    <tr>\n",
       "      <th>3</th>\n",
       "      <td>216.0</td>\n",
       "      <td>211.343597</td>\n",
       "    </tr>\n",
       "    <tr>\n",
       "      <th>4</th>\n",
       "      <td>80.0</td>\n",
       "      <td>36.918205</td>\n",
       "    </tr>\n",
       "    <tr>\n",
       "      <th>...</th>\n",
       "      <td>...</td>\n",
       "      <td>...</td>\n",
       "    </tr>\n",
       "    <tr>\n",
       "      <th>433</th>\n",
       "      <td>78.0</td>\n",
       "      <td>99.746153</td>\n",
       "    </tr>\n",
       "    <tr>\n",
       "      <th>434</th>\n",
       "      <td>12.0</td>\n",
       "      <td>28.625575</td>\n",
       "    </tr>\n",
       "    <tr>\n",
       "      <th>435</th>\n",
       "      <td>133.0</td>\n",
       "      <td>184.218101</td>\n",
       "    </tr>\n",
       "    <tr>\n",
       "      <th>436</th>\n",
       "      <td>90.0</td>\n",
       "      <td>12.653255</td>\n",
       "    </tr>\n",
       "    <tr>\n",
       "      <th>437</th>\n",
       "      <td>113.0</td>\n",
       "      <td>146.822966</td>\n",
       "    </tr>\n",
       "  </tbody>\n",
       "</table>\n",
       "<p>438 rows × 2 columns</p>\n",
       "</div>"
      ],
      "text/plain": [
       "     Actual   Predicted\n",
       "0     134.0  154.992135\n",
       "1      65.0   60.143337\n",
       "2      67.0   44.675690\n",
       "3     216.0  211.343597\n",
       "4      80.0   36.918205\n",
       "..      ...         ...\n",
       "433    78.0   99.746153\n",
       "434    12.0   28.625575\n",
       "435   133.0  184.218101\n",
       "436    90.0   12.653255\n",
       "437   113.0  146.822966\n",
       "\n",
       "[438 rows x 2 columns]"
      ]
     },
     "execution_count": 51,
     "metadata": {},
     "output_type": "execute_result"
    }
   ],
   "source": [
    "result = pd.DataFrame({'Actual' : y_test.values.flatten(), 'Predicted' : y_predict})\n",
    "result"
   ]
  },
  {
   "cell_type": "code",
   "execution_count": 52,
   "id": "90836f05-dc34-45de-91e8-b3c359332677",
   "metadata": {},
   "outputs": [
    {
     "name": "stdout",
     "output_type": "stream",
     "text": [
      "RMSE : 46.21\n"
     ]
    }
   ],
   "source": [
    "diff=(result['Actual'] - result['Predicted'])\n",
    "SE = diff * diff.T\n",
    "RMSE = SE.mean()**(1/2)\n",
    "print(\"RMSE : %.2f\"%RMSE)"
   ]
  },
  {
   "cell_type": "code",
   "execution_count": 53,
   "id": "8160d4a8-cdcc-42b7-a76e-e1255a4f1a84",
   "metadata": {},
   "outputs": [
    {
     "data": {
      "image/png": "[encoded data removed]",
      "text/plain": [
       "<Figure size 1000x1000 with 1 Axes>"
      ]
     },
     "metadata": {},
     "output_type": "display_data"
    }
   ],
   "source": [
    "plt.figure(figsize = (10, 10))\n",
    "#print(abs(diff))\n",
    "plt.bar(range(len(diff)),abs(diff))\n",
    "\n",
    "plt.savefig('그래프.png')\n",
    "plt.show()"
   ]
  },
  {
   "cell_type": "code",
   "execution_count": 54,
   "id": "10411eca-952d-465d-af30-c336102376fc",
   "metadata": {},
   "outputs": [],
   "source": [
    "df_test = pd.read_csv('data/2020.AI.bike-test.csv').fillna(0).drop(\"id\",axis=1)\n",
    "result_predict = slr.predict(poly.transform(pca.transform(sc.transform(df_test))))\n",
    "df_result = pd.DataFrame(columns = ['id','count'])\n",
    "df_result[\"id\"] = range(327)\n",
    "df_result[\"count\"] = result_predict\n",
    "\n",
    "df_result.to_csv(\"result.csv\", index = False)"
   ]
  },
  {
   "cell_type": "code",
   "execution_count": null,
   "id": "25e28533-c4b0-4d50-afd5-ccec58c965f8",
   "metadata": {},
   "outputs": [],
   "source": []
  }
 ],
 "metadata": {
  "kernelspec": {
   "display_name": "Python 3 (ipykernel)",
   "language": "python",
   "name": "python3"
  },
  "language_info": {
   "codemirror_mode": {
    "name": "ipython",
    "version": 3
   },
   "file_extension": ".py",
   "mimetype": "text/x-python",
   "name": "python",
   "nbconvert_exporter": "python",
   "pygments_lexer": "ipython3",
   "version": "3.11.7"
  }
 },
 "nbformat": 4,
 "nbformat_minor": 5
}
