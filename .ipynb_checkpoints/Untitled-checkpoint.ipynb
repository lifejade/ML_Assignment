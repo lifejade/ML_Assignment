{
 "cells": [
  {
   "cell_type": "code",
   "execution_count": 70,
   "id": "7281f278-0eae-482b-b2cd-0ac5ab352dce",
   "metadata": {},
   "outputs": [],
   "source": [
    "import numpy as np\n",
    "import pandas as pd\n",
    "#from google.colab import files\n",
    "import io\n",
    "\n",
    "\n",
    "import pandas as pd\n",
    "import numpy as np\n",
    "import matplotlib.pyplot as plt\n",
    "\n",
    "train = pd.read_csv('data/2020.AI.bike-train.csv')\n",
    "test = pd.read_csv('data/2020.AI.bike-test.csv')\n",
    "\n",
    "train = train.fillna(train.mean())  # train 데이터의 결측치를 평균값으로 대체\n",
    "test = test.fillna(test.mean())  # test 데이터의 결측치를 평균값으로 대체\n",
    "\n",
    "#uploaded = files.upload()\n",
    "#train = pd.read_csv(io.BytesIO(uploaded['2020.train.csv']))\n",
    "\n",
    "#uploaded = files.upload()\n",
    "#test = pd.read_csv(io.BytesIO(uploaded['2020.test.csv']))\n",
    "\n",
    "#print(train.head())\n",
    "\n",
    "\n",
    "#print(test.head())\n"
   ]
  },
  {
   "cell_type": "code",
   "execution_count": 71,
   "id": "2c443f3f-a654-4e6a-9b5f-ae17f3f9f0ec",
   "metadata": {},
   "outputs": [],
   "source": [
    "train.drop(columns=['id'], inplace=True)\n",
    "test.drop(columns=['id'], inplace=True)\n",
    "# 정답레이블 분리하고\n",
    "train_x = train.drop(['count'],axis=1)\n",
    "train_y =train.iloc[:,-1:]"
   ]
  },
  {
   "cell_type": "code",
   "execution_count": 72,
   "id": "5f8af249-a8bb-4324-8c52-85e8498f7ebb",
   "metadata": {},
   "outputs": [],
   "source": [
    "from sklearn.compose import ColumnTransformer\n",
    "from sklearn.pipeline import Pipeline\n",
    "# 수치형 특성 선택\n",
    "numeric_features = ['hour', 'hour_bef_temperature', 'hour_bef_precipitation', \n",
    "                    'hour_bef_windspeed', 'hour_bef_humidity', 'hour_bef_visibility', \n",
    "                    'hour_bef_ozone', 'hour_bef_pm10', 'hour_bef_pm2.5']\n",
    "# 전처리 파이프라인 생성\n",
    "numeric_transformer = Pipeline(steps=[\n",
    "    ('scaler', StandardScaler())\n",
    "])\n",
    "\n",
    "preprocessor = ColumnTransformer(\n",
    "    transformers=[\n",
    "        ('num', numeric_transformer, numeric_features)\n",
    "    ])"
   ]
  },
  {
   "cell_type": "code",
   "execution_count": 73,
   "id": "e422d9db-cbf3-4f2f-bfb9-520062db1d70",
   "metadata": {},
   "outputs": [],
   "source": [
    "# 모든 모델 중 모든 지표에서 가장 낮은 에러를 보인 Extra Trees 모델 선택\n",
    "# 파라미터 조금씩 조정하면 성능 더 좋아질 수도 있을텐데 일단 바로 사용할게요\n",
    "# 참고로 카톡에 올렸던 더 크고 결측치 있는 데이터로 비교했을 때도 가장 성능 좋은건 Extra Trees였음\n",
    "from sklearn.preprocessing import PolynomialFeatures\n",
    "from sklearn.model_selection import train_test_split\n",
    "from sklearn.metrics import mean_absolute_error, mean_squared_error, r2_score\n",
    "from sklearn.linear_model import LinearRegression, Ridge, Lasso, ElasticNet, LassoCV, RidgeCV\n",
    "from sklearn.tree import DecisionTreeRegressor\n",
    "from sklearn.ensemble import RandomForestRegressor, GradientBoostingRegressor, ExtraTreesRegressor, AdaBoostRegressor, BaggingRegressor, VotingRegressor\n",
    "from sklearn.svm import SVR\n",
    "from sklearn.neighbors import KNeighborsRegressor\n",
    "from sklearn.pipeline import make_pipeline\n",
    "from sklearn.preprocessing import StandardScaler\n",
    "from sklearn.decomposition import PCA\n",
    "\n",
    "etr = ExtraTreesRegressor(random_state=42)\n",
    "model1 = make_pipeline(etr)\n",
    "model2 = make_pipeline(StandardScaler(), PCA(n_components = 6), PolynomialFeatures(degree = 2, interaction_only = False, include_bias=True), Ridge(alpha =5, random_state = 1))"
   ]
  },
  {
   "cell_type": "code",
   "execution_count": 74,
   "id": "6741cb15-04c2-4b24-8912-d409327aed1b",
   "metadata": {},
   "outputs": [],
   "source": [
    "# 수치형 특성 선택\n",
    "numeric_features = ['hour', 'hour_bef_temperature', 'hour_bef_precipitation', \n",
    "                    'hour_bef_windspeed', 'hour_bef_humidity', 'hour_bef_visibility', \n",
    "                    'hour_bef_ozone', 'hour_bef_pm10', 'hour_bef_pm2.5']\n",
    "\n",
    "from sklearn.ensemble import RandomForestRegressor, GradientBoostingRegressor, StackingRegressor\n",
    "from sklearn.linear_model import LinearRegression\n",
    "from sklearn.model_selection import cross_val_score\n",
    "from sklearn.preprocessing import StandardScaler\n",
    "from sklearn.compose import ColumnTransformer\n",
    "from sklearn.pipeline import Pipeline\n",
    "\n",
    "# 전처리 파이프라인 생성\n",
    "numeric_transformer = Pipeline(steps=[\n",
    "    ('scaler', StandardScaler())\n",
    "])\n",
    "\n",
    "preprocessor = ColumnTransformer(\n",
    "    transformers=[\n",
    "        ('num', numeric_transformer, numeric_features)\n",
    "    ])\n",
    "\n",
    "# 모델 설정\n",
    "models = [\n",
    "    ('linear_regression', LinearRegression()),\n",
    "    ('random_forest', RandomForestRegressor(n_estimators=100, random_state=42)),\n",
    "    ('gradient_boosting', GradientBoostingRegressor(n_estimators=100, random_state=42))\n",
    "]\n",
    "# Stacking 모델 설정\n",
    "stacking_model = StackingRegressor(\n",
    "    estimators=models,\n",
    "    final_estimator=LinearRegression()\n",
    ")\n",
    "\n",
    "# Stacking 모델의 성능 평가\n",
    "model3 = make_pipeline(\n",
    "    preprocessor,\n",
    "    stacking_model\n",
    ")"
   ]
  },
  {
   "cell_type": "code",
   "execution_count": 82,
   "id": "c27a2c81-e9c9-496e-b493-2736775a73b8",
   "metadata": {},
   "outputs": [
    {
     "ename": "SyntaxError",
     "evalue": "unterminated string literal (detected at line 2) (2355441991.py, line 2)",
     "output_type": "error",
     "traceback": [
      "\u001b[1;36m  Cell \u001b[1;32mIn[82], line 2\u001b[1;36m\u001b[0m\n\u001b[1;33m    cube_features = [\"]\u001b[0m\n\u001b[1;37m                     ^\u001b[0m\n\u001b[1;31mSyntaxError\u001b[0m\u001b[1;31m:\u001b[0m unterminated string literal (detected at line 2)\n"
     ]
    }
   ],
   "source": [
    "root_features = [\"hour_bef_windspeed\", \"hour_bef_ozone\", \"hour_bef_pm10\", \"hour_bef_pm2.5\"]\n",
    "cube_features = [\"hour_bef_visibility\", ]\n",
    "\n",
    "model4 = Ridge(alpha=0.01)\n",
    "\n"
   ]
  },
  {
   "cell_type": "code",
   "execution_count": 76,
   "id": "7b381c93-5930-4c96-9ed8-57fffe083be6",
   "metadata": {},
   "outputs": [],
   "source": [
    "from sklearn.neighbors import KNeighborsRegressor\n",
    "model5=KNeighborsRegressor()"
   ]
  },
  {
   "cell_type": "code",
   "execution_count": 79,
   "id": "d9f219c7-628d-433d-b048-87db54598c81",
   "metadata": {},
   "outputs": [
    {
     "name": "stderr",
     "output_type": "stream",
     "text": [
      "C:\\Users\\Win10\\anaconda3\\Lib\\site-packages\\sklearn\\ensemble\\_stacking.py:957: DataConversionWarning: A column-vector y was passed when a 1d array was expected. Please change the shape of y to (n_samples, ), for example using ravel().\n",
      "  y = column_or_1d(y, warn=True)\n"
     ]
    }
   ],
   "source": [
    "models_assignment = [\n",
    "    (\"1\" , model1),\n",
    "    (\"2\" , model2),\n",
    "    (\"3\", model3),\n",
    "    (\"4\", model4),\n",
    "    (\"5\", model5)\n",
    "]\n",
    "\n",
    "from sklearn.ensemble import StackingRegressor\n",
    "reg  = StackingRegressor(models_assignment)\n",
    "reg.fit(train_x, train_y)\n",
    "\n",
    "# 테스트 데이터에 대한 예측 수행\n",
    "Y_pred = reg.predict(test)\n"
   ]
  },
  {
   "cell_type": "code",
   "execution_count": 80,
   "id": "cef9cbf2-bf86-4ba1-a99f-75270a2490ed",
   "metadata": {},
   "outputs": [],
   "source": [
    "#저장 후 파일 다운로드\n",
    "submission = pd.DataFrame(Y_pred,columns=['count'])\n",
    "\n",
    "submission.to_csv('sample_submission.csv',index_label='id')"
   ]
  },
  {
   "cell_type": "code",
   "execution_count": null,
   "id": "ac6649b9-cf5f-4acd-8237-ea86d1c7616e",
   "metadata": {},
   "outputs": [],
   "source": []
  }
 ],
 "metadata": {
  "kernelspec": {
   "display_name": "Python 3 (ipykernel)",
   "language": "python",
   "name": "python3"
  },
  "language_info": {
   "codemirror_mode": {
    "name": "ipython",
    "version": 3
   },
   "file_extension": ".py",
   "mimetype": "text/x-python",
   "name": "python",
   "nbconvert_exporter": "python",
   "pygments_lexer": "ipython3",
   "version": "3.11.7"
  }
 },
 "nbformat": 4,
 "nbformat_minor": 5
}
